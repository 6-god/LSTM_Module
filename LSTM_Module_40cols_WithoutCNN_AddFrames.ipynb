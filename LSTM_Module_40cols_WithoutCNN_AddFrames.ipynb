{
  "cells": [
    {
      "cell_type": "markdown",
      "metadata": {
        "id": "KDuD0emwq7as"
      },
      "source": [
        "将google云盘中的csv存入/content/data下"
      ]
    },
    {
      "cell_type": "code",
      "execution_count": null,
      "metadata": {
        "id": "YfT4JEw9q6xM"
      },
      "outputs": [],
      "source": [
        "import os\n",
        "import shutil\n",
        "!mkdir datas\n",
        "for folderName, subfolders, filenames in os.walk('/content/drive/MyDrive/eating'):\n",
        "  print(folderName)\n",
        "  for filename in filenames:\n",
        "    if '.csv' in filename:\n",
        "      print(filename)\n",
        "      try:\n",
        "        shutil.copy(folderName+'/' +filename,'/content/datas/'+filename)\n",
        "      except OSError:\n",
        "        pass\n",
        "for folderName, subfolders, filenames in os.walk('/content/drive/MyDrive/running'):\n",
        "  print(folderName)\n",
        "  for filename in filenames:\n",
        "    if '.csv' in filename:\n",
        "      print(filename)\n",
        "      try:\n",
        "        shutil.copy(folderName+'/' +filename,'/content/datas/'+filename)\n",
        "      except OSError:\n",
        "        pass\n",
        "for folderName, subfolders, filenames in os.walk('/content/drive/MyDrive/walking'):\n",
        "  print(folderName)\n",
        "  for filename in filenames:\n",
        "    if '.csv' in filename:\n",
        "      print(filename)\n",
        "      try:\n",
        "        shutil.copy(folderName+'/' +filename,'/content/datas/'+filename)\n",
        "      except OSError:\n",
        "        pass\n",
        "for folderName, subfolders, filenames in os.walk('/content/drive/MyDrive/jumping'):\n",
        "  print(folderName)\n",
        "  for filename in filenames:\n",
        "    if '.csv' in filename:\n",
        "      print(filename)\n",
        "      try:\n",
        "        shutil.copy(folderName+'/' +filename,'/content/datas/'+filename)\n",
        "      except OSError:\n",
        "        pass"
      ]
    },
    {
      "cell_type": "markdown",
      "metadata": {
        "id": "r8YtFOui2d1Q"
      },
      "source": [
        "读取文件夹下所有文件（csv），按照文件名进行分组"
      ]
    },
    {
      "cell_type": "code",
      "execution_count": null,
      "metadata": {
        "colab": {
          "base_uri": "https://localhost:8080/"
        },
        "id": "j3agp7842bxj",
        "outputId": "57bc490c-6dcb-4aff-8e12-b947ef032e97"
      },
      "outputs": [
        {
          "output_type": "stream",
          "name": "stdout",
          "text": [
            "rmdir: failed to remove '/content/datas/.ipynb_checkpoints': No such file or directory\n",
            "['cat_eating_3DLC_resnet50_DLC_ProjectSep22shuffle1_75000.csv', 'cat_walking_24DLC_resnet50_DLC_ProjectSep22shuffle1_75000.csv', 'cat_jumping_53DLC_resnet50_DLC_ProjectSep22shuffle1_75000.csv', 'cat_walking_5DLC_resnet50_DLC_ProjectSep22shuffle1_75000.csv', 'cat_jumping_17DLC_resnet50_DLC_ProjectSep22shuffle1_75000.csv', 'cat_eating_50DLC_resnet50_DLC_ProjectSep22shuffle1_75000.csv', 'cat_jumping_19DLC_resnet50_DLC_ProjectSep22shuffle1_75000.csv', 'cat_jumping_63DLC_resnet50_DLC_ProjectSep22shuffle1_75000.csv', 'cat_walking_87DLC_resnet50_DLC_ProjectSep22shuffle1_75000.csv', 'cat_jumping_66DLC_resnet50_DLC_ProjectSep22shuffle1_75000.csv', 'cat_running_1DLC_resnet50_DLC_ProjectSep22shuffle1_75000.csv', 'cat_eating_77DLC_resnet50_DLC_ProjectSep22shuffle1_75000.csv', 'cat_jumping_81DLC_resnet50_DLC_ProjectSep22shuffle1_75000.csv', 'cat_eating_69DLC_resnet50_DLC_ProjectSep22shuffle1_75000.csv', 'cat_jumping_30DLC_resnet50_DLC_ProjectSep22shuffle1_75000.csv', 'cat_walking_14DLC_resnet50_DLC_ProjectSep22shuffle1_75000.csv', 'cat_jumping_50DLC_resnet50_DLC_ProjectSep22shuffle1_75000.csv', 'cat_eating_48DLC_resnet50_DLC_ProjectSep22shuffle1_75000.csv', 'cat_running_27DLC_resnet50_DLC_ProjectSep22shuffle1_75000.csv', 'cat_jumping_37DLC_resnet50_DLC_ProjectSep22shuffle1_75000.csv', 'cat_running_69DLC_resnet50_DLC_ProjectSep22shuffle1_75000.csv', 'cat_walking_38DLC_resnet50_DLC_ProjectSep22shuffle1_75000.csv', 'cat_eating_12DLC_resnet50_DLC_ProjectSep22shuffle1_75000.csv', 'cat_jumping_41DLC_resnet50_DLC_ProjectSep22shuffle1_75000.csv', 'cat_walking_89DLC_resnet50_DLC_ProjectSep22shuffle1_75000.csv', 'cat_eating_22DLC_resnet50_DLC_ProjectSep22shuffle1_75000.csv', 'cat_walking_4DLC_resnet50_DLC_ProjectSep22shuffle1_75000.csv', 'cat_walking_85DLC_resnet50_DLC_ProjectSep22shuffle1_75000.csv', 'cat_eating_55DLC_resnet50_DLC_ProjectSep22shuffle1_75000.csv', 'cat_running_19DLC_resnet50_DLC_ProjectSep22shuffle1_75000.csv', 'cat_eating_35DLC_resnet50_DLC_ProjectSep22shuffle1_75000.csv', 'cat_jumping_22DLC_resnet50_DLC_ProjectSep22shuffle1_75000.csv', 'cat_walking_18DLC_resnet50_DLC_ProjectSep22shuffle1_75000.csv', 'cat_eating_25DLC_resnet50_DLC_ProjectSep22shuffle1_75000.csv', 'cat_running_26DLC_resnet50_DLC_ProjectSep22shuffle1_75000.csv', 'cat_jumping_75DLC_resnet50_DLC_ProjectSep22shuffle1_75000.csv', 'cat_jumping_89DLC_resnet50_DLC_ProjectSep22shuffle1_75000.csv', 'cat_jumping_33DLC_resnet50_DLC_ProjectSep22shuffle1_75000.csv', 'cat_eating_7DLC_resnet50_DLC_ProjectSep22shuffle1_75000.csv', 'cat_jumping_80DLC_resnet50_DLC_ProjectSep22shuffle1_75000.csv', 'cat_running_62DLC_resnet50_DLC_ProjectSep22shuffle1_75000.csv', 'cat_jumping_52DLC_resnet50_DLC_ProjectSep22shuffle1_75000.csv', 'cat_walking_12DLC_resnet50_DLC_ProjectSep22shuffle1_75000.csv', 'cat_eating_6DLC_resnet50_DLC_ProjectSep22shuffle1_75000.csv', 'cat_walking_15DLC_resnet50_DLC_ProjectSep22shuffle1_75000.csv', 'cat_eating_10DLC_resnet50_DLC_ProjectSep22shuffle1_75000.csv', 'cat_running_7DLC_resnet50_DLC_ProjectSep22shuffle1_75000.csv', 'cat_eating_65DLC_resnet50_DLC_ProjectSep22shuffle1_75000.csv', 'cat_running_10DLC_resnet50_DLC_ProjectSep22shuffle1_75000.csv', 'cat_running_14DLC_resnet50_DLC_ProjectSep22shuffle1_75000.csv', 'cat_walking_16DLC_resnet50_DLC_ProjectSep22shuffle1_75000.csv', 'cat_walking_77DLC_resnet50_DLC_ProjectSep22shuffle1_75000.csv', 'cat_running_21DLC_resnet50_DLC_ProjectSep22shuffle1_75000.csv', 'cat_jumping_4DLC_resnet50_DLC_ProjectSep22shuffle1_75000.csv', 'cat_eating_45DLC_resnet50_DLC_ProjectSep22shuffle1_75000.csv', 'cat_eating_21DLC_resnet50_DLC_ProjectSep22shuffle1_75000.csv', 'cat_running_60DLC_resnet50_DLC_ProjectSep22shuffle1_75000.csv', 'cat_eating_81DLC_resnet50_DLC_ProjectSep22shuffle1_75000.csv', 'cat_running_22DLC_resnet50_DLC_ProjectSep22shuffle1_75000.csv', 'cat_running_64DLC_resnet50_DLC_ProjectSep22shuffle1_75000.csv', 'cat_eating_32DLC_resnet50_DLC_ProjectSep22shuffle1_75000.csv', 'cat_walking_58DLC_resnet50_DLC_ProjectSep22shuffle1_75000.csv', 'cat_eating_87DLC_resnet50_DLC_ProjectSep22shuffle1_75000.csv', 'cat_eating_54DLC_resnet50_DLC_ProjectSep22shuffle1_75000.csv', 'cat_jumping_43DLC_resnet50_DLC_ProjectSep22shuffle1_75000.csv', 'cat_eating_30DLC_resnet50_DLC_ProjectSep22shuffle1_75000.csv', 'cat_jumping_61DLC_resnet50_DLC_ProjectSep22shuffle1_75000.csv', 'cat_running_3DLC_resnet50_DLC_ProjectSep22shuffle1_75000.csv', 'cat_jumping_3DLC_resnet50_DLC_ProjectSep22shuffle1_75000.csv', 'cat_jumping_64DLC_resnet50_DLC_ProjectSep22shuffle1_75000.csv', 'cat_jumping_12DLC_resnet50_DLC_ProjectSep22shuffle1_75000.csv', 'cat_walking_7DLC_resnet50_DLC_ProjectSep22shuffle1_75000.csv', 'cat_eating_57DLC_resnet50_DLC_ProjectSep22shuffle1_75000.csv', 'cat_eating_79DLC_resnet50_DLC_ProjectSep22shuffle1_75000.csv', 'cat_running_40DLC_resnet50_DLC_ProjectSep22shuffle1_75000.csv', 'cat_walking_81DLC_resnet50_DLC_ProjectSep22shuffle1_75000.csv', 'cat_eating_37DLC_resnet50_DLC_ProjectSep22shuffle1_75000.csv', 'cat_jumping_38DLC_resnet50_DLC_ProjectSep22shuffle1_75000.csv', 'cat_walking_39DLC_resnet50_DLC_ProjectSep22shuffle1_75000.csv', 'cat_running_18DLC_resnet50_DLC_ProjectSep22shuffle1_75000.csv', 'cat_running_49DLC_resnet50_DLC_ProjectSep22shuffle1_75000.csv', 'cat_walking_37DLC_resnet50_DLC_ProjectSep22shuffle1_75000.csv', 'cat_walking_35DLC_resnet50_DLC_ProjectSep22shuffle1_75000.csv', 'cat_running_13DLC_resnet50_DLC_ProjectSep22shuffle1_75000.csv', 'cat_walking_34DLC_resnet50_DLC_ProjectSep22shuffle1_75000.csv', 'cat_eating_67DLC_resnet50_DLC_ProjectSep22shuffle1_75000.csv', 'cat_walking_17DLC_resnet50_DLC_ProjectSep22shuffle1_75000.csv', 'cat_running_38DLC_resnet50_DLC_ProjectSep22shuffle1_75000.csv', 'cat_running_6DLC_resnet50_DLC_ProjectSep22shuffle1_75000.csv', 'cat_walking_74DLC_resnet50_DLC_ProjectSep22shuffle1_75000.csv', 'cat_jumping_59DLC_resnet50_DLC_ProjectSep22shuffle1_75000.csv', 'cat_walking_47DLC_resnet50_DLC_ProjectSep22shuffle1_75000.csv', 'cat_jumping_62DLC_resnet50_DLC_ProjectSep22shuffle1_75000.csv', 'cat_eating_36DLC_resnet50_DLC_ProjectSep22shuffle1_75000.csv', 'cat_running_4DLC_resnet50_DLC_ProjectSep22shuffle1_75000.csv', 'cat_jumping_7DLC_resnet50_DLC_ProjectSep22shuffle1_75000.csv', 'cat_running_5DLC_resnet50_DLC_ProjectSep22shuffle1_75000.csv', 'cat_walking_3DLC_resnet50_DLC_ProjectSep22shuffle1_75000.csv', 'cat_eating_38DLC_resnet50_DLC_ProjectSep22shuffle1_75000.csv', 'cat_eating_70DLC_resnet50_DLC_ProjectSep22shuffle1_75000.csv', 'cat_eating_58DLC_resnet50_DLC_ProjectSep22shuffle1_75000.csv', 'cat_walking_26DLC_resnet50_DLC_ProjectSep22shuffle1_75000.csv', 'cat_eating_84DLC_resnet50_DLC_ProjectSep22shuffle1_75000.csv', 'cat_running_57DLC_resnet50_DLC_ProjectSep22shuffle1_75000.csv', 'cat_eating_16DLC_resnet50_DLC_ProjectSep22shuffle1_75000.csv', 'cat_jumping_39DLC_resnet50_DLC_ProjectSep22shuffle1_75000.csv', 'cat_jumping_24DLC_resnet50_DLC_ProjectSep22shuffle1_75000.csv', 'cat_walking_53DLC_resnet50_DLC_ProjectSep22shuffle1_75000.csv', 'cat_eating_66DLC_resnet50_DLC_ProjectSep22shuffle1_75000.csv', 'cat_running_63DLC_resnet50_DLC_ProjectSep22shuffle1_75000.csv', 'cat_running_43DLC_resnet50_DLC_ProjectSep22shuffle1_75000.csv', 'cat_walking_10DLC_resnet50_DLC_ProjectSep22shuffle1_75000.csv', 'cat_jumping_77DLC_resnet50_DLC_ProjectSep22shuffle1_75000.csv', 'cat_running_81DLC_resnet50_DLC_ProjectSep22shuffle1_75000.csv', 'cat_running_29DLC_resnet50_DLC_ProjectSep22shuffle1_75000.csv', 'cat_running_35DLC_resnet50_DLC_ProjectSep22shuffle1_75000.csv', 'cat_walking_23DLC_resnet50_DLC_ProjectSep22shuffle1_75000.csv', 'cat_walking_73DLC_resnet50_DLC_ProjectSep22shuffle1_75000.csv', 'cat_walking_67DLC_resnet50_DLC_ProjectSep22shuffle1_75000.csv', 'cat_jumping_58DLC_resnet50_DLC_ProjectSep22shuffle1_75000.csv', 'cat_running_46DLC_resnet50_DLC_ProjectSep22shuffle1_75000.csv', 'cat_eating_56DLC_resnet50_DLC_ProjectSep22shuffle1_75000.csv', 'cat_walking_79DLC_resnet50_DLC_ProjectSep22shuffle1_75000.csv', 'cat_eating_80DLC_resnet50_DLC_ProjectSep22shuffle1_75000.csv', 'cat_walking_11DLC_resnet50_DLC_ProjectSep22shuffle1_75000.csv', 'cat_jumping_67DLC_resnet50_DLC_ProjectSep22shuffle1_75000.csv', 'cat_eating_49DLC_resnet50_DLC_ProjectSep22shuffle1_75000.csv', 'cat_walking_90DLC_resnet50_DLC_ProjectSep22shuffle1_75000.csv', 'cat_running_8DLC_resnet50_DLC_ProjectSep22shuffle1_75000.csv', 'cat_jumping_15DLC_resnet50_DLC_ProjectSep22shuffle1_75000.csv', 'cat_eating_2DLC_resnet50_DLC_ProjectSep22shuffle1_75000.csv', 'cat_jumping_6DLC_resnet50_DLC_ProjectSep22shuffle1_75000.csv', 'cat_eating_62DLC_resnet50_DLC_ProjectSep22shuffle1_75000.csv', 'cat_walking_76DLC_resnet50_DLC_ProjectSep22shuffle1_75000.csv', 'cat_jumping_78DLC_resnet50_DLC_ProjectSep22shuffle1_75000.csv', 'cat_jumping_14DLC_resnet50_DLC_ProjectSep22shuffle1_75000.csv', 'cat_jumping_74DLC_resnet50_DLC_ProjectSep22shuffle1_75000.csv', 'cat_running_30DLC_resnet50_DLC_ProjectSep22shuffle1_75000.csv', 'cat_eating_20DLC_resnet50_DLC_ProjectSep22shuffle1_75000.csv', 'cat_running_31DLC_resnet50_DLC_ProjectSep22shuffle1_75000.csv', 'cat_jumping_83DLC_resnet50_DLC_ProjectSep22shuffle1_75000.csv', 'cat_running_47DLC_resnet50_DLC_ProjectSep22shuffle1_75000.csv', 'cat_walking_20DLC_resnet50_DLC_ProjectSep22shuffle1_75000.csv', 'cat_walking_1DLC_resnet50_DLC_ProjectSep22shuffle1_75000.csv', 'cat_jumping_42DLC_resnet50_DLC_ProjectSep22shuffle1_75000.csv', 'cat_running_71DLC_resnet50_DLC_ProjectSep22shuffle1_75000.csv', 'cat_eating_24DLC_resnet50_DLC_ProjectSep22shuffle1_75000.csv', 'cat_running_67DLC_resnet50_DLC_ProjectSep22shuffle1_75000.csv', 'cat_walking_19DLC_resnet50_DLC_ProjectSep22shuffle1_75000.csv', 'cat_jumping_73DLC_resnet50_DLC_ProjectSep22shuffle1_75000.csv', 'cat_walking_25DLC_resnet50_DLC_ProjectSep22shuffle1_75000.csv', 'cat_walking_83DLC_resnet50_DLC_ProjectSep22shuffle1_75000.csv', 'cat_eating_17DLC_resnet50_DLC_ProjectSep22shuffle1_75000.csv', 'cat_running_34DLC_resnet50_DLC_ProjectSep22shuffle1_75000.csv', 'cat_walking_42DLC_resnet50_DLC_ProjectSep22shuffle1_75000.csv', 'cat_running_70DLC_resnet50_DLC_ProjectSep22shuffle1_75000.csv', 'cat_jumping_10DLC_resnet50_DLC_ProjectSep22shuffle1_75000.csv', 'cat_running_75DLC_resnet50_DLC_ProjectSep22shuffle1_75000.csv', 'cat_running_61DLC_resnet50_DLC_ProjectSep22shuffle1_75000.csv', 'cat_walking_55DLC_resnet50_DLC_ProjectSep22shuffle1_75000.csv', 'cat_eating_41DLC_resnet50_DLC_ProjectSep22shuffle1_75000.csv', 'cat_walking_49DLC_resnet50_DLC_ProjectSep22shuffle1_75000.csv', 'cat_jumping_32DLC_resnet50_DLC_ProjectSep22shuffle1_75000.csv', 'cat_eating_39DLC_resnet50_DLC_ProjectSep22shuffle1_75000.csv', 'cat_walking_69DLC_resnet50_DLC_ProjectSep22shuffle1_75000.csv', 'cat_eating_63DLC_resnet50_DLC_ProjectSep22shuffle1_75000.csv', 'cat_eating_68DLC_resnet50_DLC_ProjectSep22shuffle1_75000.csv', 'cat_eating_52DLC_resnet50_DLC_ProjectSep22shuffle1_75000.csv', 'cat_walking_51DLC_resnet50_DLC_ProjectSep22shuffle1_75000.csv', 'cat_eating_28DLC_resnet50_DLC_ProjectSep22shuffle1_75000.csv', 'cat_jumping_46DLC_resnet50_DLC_ProjectSep22shuffle1_75000.csv', 'cat_eating_71DLC_resnet50_DLC_ProjectSep22shuffle1_75000.csv', 'cat_jumping_84DLC_resnet50_DLC_ProjectSep22shuffle1_75000.csv', 'cat_eating_89DLC_resnet50_DLC_ProjectSep22shuffle1_75000.csv', 'cat_jumping_40DLC_resnet50_DLC_ProjectSep22shuffle1_75000.csv', 'cat_jumping_28DLC_resnet50_DLC_ProjectSep22shuffle1_75000.csv', 'cat_eating_40DLC_resnet50_DLC_ProjectSep22shuffle1_75000.csv', 'cat_eating_72DLC_resnet50_DLC_ProjectSep22shuffle1_75000.csv', 'cat_walking_45DLC_resnet50_DLC_ProjectSep22shuffle1_75000.csv', 'cat_jumping_18DLC_resnet50_DLC_ProjectSep22shuffle1_75000.csv', 'cat_walking_8DLC_resnet50_DLC_ProjectSep22shuffle1_75000.csv', 'cat_jumping_88DLC_resnet50_DLC_ProjectSep22shuffle1_75000.csv', 'cat_jumping_34DLC_resnet50_DLC_ProjectSep22shuffle1_75000.csv', 'cat_jumping_31DLC_resnet50_DLC_ProjectSep22shuffle1_75000.csv', 'cat_eating_74DLC_resnet50_DLC_ProjectSep22shuffle1_75000.csv', 'cat_jumping_44DLC_resnet50_DLC_ProjectSep22shuffle1_75000.csv', 'cat_jumping_69DLC_resnet50_DLC_ProjectSep22shuffle1_75000.csv', 'cat_running_12DLC_resnet50_DLC_ProjectSep22shuffle1_75000.csv', 'cat_running_33DLC_resnet50_DLC_ProjectSep22shuffle1_75000.csv', 'cat_eating_19DLC_resnet50_DLC_ProjectSep22shuffle1_75000.csv', 'cat_eating_33DLC_resnet50_DLC_ProjectSep22shuffle1_75000.csv', 'cat_walking_82DLC_resnet50_DLC_ProjectSep22shuffle1_75000.csv', 'cat_running_50DLC_resnet50_DLC_ProjectSep22shuffle1_75000.csv', 'cat_walking_41DLC_resnet50_DLC_ProjectSep22shuffle1_75000.csv', 'cat_eating_31DLC_resnet50_DLC_ProjectSep22shuffle1_75000.csv', 'cat_walking_78DLC_resnet50_DLC_ProjectSep22shuffle1_75000.csv', 'cat_jumping_23DLC_resnet50_DLC_ProjectSep22shuffle1_75000.csv', 'cat_walking_9DLC_resnet50_DLC_ProjectSep22shuffle1_75000.csv', 'cat_eating_60DLC_resnet50_DLC_ProjectSep22shuffle1_75000.csv', 'cat_jumping_65DLC_resnet50_DLC_ProjectSep22shuffle1_75000.csv', 'cat_jumping_5DLC_resnet50_DLC_ProjectSep22shuffle1_75000.csv', 'cat_running_36DLC_resnet50_DLC_ProjectSep22shuffle1_75000.csv', 'cat_walking_33DLC_resnet50_DLC_ProjectSep22shuffle1_75000.csv', 'cat_running_80DLC_resnet50_DLC_ProjectSep22shuffle1_75000.csv', 'cat_running_39DLC_resnet50_DLC_ProjectSep22shuffle1_75000.csv', 'cat_walking_60DLC_resnet50_DLC_ProjectSep22shuffle1_75000.csv', 'cat_eating_4DLC_resnet50_DLC_ProjectSep22shuffle1_75000.csv', 'cat_walking_56DLC_resnet50_DLC_ProjectSep22shuffle1_75000.csv', 'cat_running_37DLC_resnet50_DLC_ProjectSep22shuffle1_75000.csv', 'cat_jumping_60DLC_resnet50_DLC_ProjectSep22shuffle1_75000.csv', 'cat_jumping_20DLC_resnet50_DLC_ProjectSep22shuffle1_75000.csv', 'cat_walking_84DLC_resnet50_DLC_ProjectSep22shuffle1_75000.csv', 'cat_running_24DLC_resnet50_DLC_ProjectSep22shuffle1_75000.csv', 'cat_running_56DLC_resnet50_DLC_ProjectSep22shuffle1_75000.csv', 'cat_eating_27DLC_resnet50_DLC_ProjectSep22shuffle1_75000.csv', 'cat_jumping_45DLC_resnet50_DLC_ProjectSep22shuffle1_75000.csv', 'cat_running_42DLC_resnet50_DLC_ProjectSep22shuffle1_75000.csv', 'cat_walking_50DLC_resnet50_DLC_ProjectSep22shuffle1_75000.csv', 'cat_jumping_2DLC_resnet50_DLC_ProjectSep22shuffle1_75000.csv', 'cat_eating_1DLC_resnet50_DLC_ProjectSep22shuffle1_75000.csv', 'cat_eating_9DLC_resnet50_DLC_ProjectSep22shuffle1_75000.csv', 'cat_walking_31DLC_resnet50_DLC_ProjectSep22shuffle1_75000.csv', 'cat_eating_78DLC_resnet50_DLC_ProjectSep22shuffle1_75000.csv', 'cat_jumping_25DLC_resnet50_DLC_ProjectSep22shuffle1_75000.csv', 'cat_walking_68DLC_resnet50_DLC_ProjectSep22shuffle1_75000.csv', 'cat_running_17DLC_resnet50_DLC_ProjectSep22shuffle1_75000.csv', 'cat_jumping_86DLC_resnet50_DLC_ProjectSep22shuffle1_75000.csv', 'cat_walking_54DLC_resnet50_DLC_ProjectSep22shuffle1_75000.csv', 'cat_eating_83DLC_resnet50_DLC_ProjectSep22shuffle1_75000.csv', 'cat_running_78DLC_resnet50_DLC_ProjectSep22shuffle1_75000.csv', 'cat_running_52DLC_resnet50_DLC_ProjectSep22shuffle1_75000.csv', 'cat_walking_88DLC_resnet50_DLC_ProjectSep22shuffle1_75000.csv', 'cat_eating_18DLC_resnet50_DLC_ProjectSep22shuffle1_75000.csv', 'cat_jumping_9DLC_resnet50_DLC_ProjectSep22shuffle1_75000.csv', 'cat_running_25DLC_resnet50_DLC_ProjectSep22shuffle1_75000.csv', 'cat_running_2DLC_resnet50_DLC_ProjectSep22shuffle1_75000.csv', 'cat_jumping_16DLC_resnet50_DLC_ProjectSep22shuffle1_75000.csv', 'cat_eating_90DLC_resnet50_DLC_ProjectSep22shuffle1_75000.csv', 'cat_running_51DLC_resnet50_DLC_ProjectSep22shuffle1_75000.csv', 'cat_running_45DLC_resnet50_DLC_ProjectSep22shuffle1_75000.csv', 'cat_running_55DLC_resnet50_DLC_ProjectSep22shuffle1_75000.csv', 'cat_jumping_1DLC_resnet50_DLC_ProjectSep22shuffle1_75000.csv', 'cat_eating_29DLC_resnet50_DLC_ProjectSep22shuffle1_75000.csv', 'cat_jumping_54DLC_resnet50_DLC_ProjectSep22shuffle1_75000.csv', 'cat_running_9DLC_resnet50_DLC_ProjectSep22shuffle1_75000.csv', 'cat_walking_48DLC_resnet50_DLC_ProjectSep22shuffle1_75000.csv', 'cat_running_74DLC_resnet50_DLC_ProjectSep22shuffle1_75000.csv', 'cat_running_32DLC_resnet50_DLC_ProjectSep22shuffle1_75000.csv', 'cat_eating_46DLC_resnet50_DLC_ProjectSep22shuffle1_75000.csv', 'cat_jumping_27DLC_resnet50_DLC_ProjectSep22shuffle1_75000.csv', 'cat_jumping_29DLC_resnet50_DLC_ProjectSep22shuffle1_75000.csv', 'cat_running_77DLC_resnet50_DLC_ProjectSep22shuffle1_75000.csv', 'cat_walking_92DLC_resnet50_DLC_ProjectSep22shuffle1_75000.csv', 'cat_walking_66DLC_resnet50_DLC_ProjectSep22shuffle1_75000.csv', 'cat_eating_15DLC_resnet50_DLC_ProjectSep22shuffle1_75000.csv', 'cat_eating_64DLC_resnet50_DLC_ProjectSep22shuffle1_75000.csv', 'cat_running_53DLC_resnet50_DLC_ProjectSep22shuffle1_75000.csv', 'cat_eating_61DLC_resnet50_DLC_ProjectSep22shuffle1_75000.csv', 'cat_running_11DLC_resnet50_DLC_ProjectSep22shuffle1_75000.csv', 'cat_eating_23DLC_resnet50_DLC_ProjectSep22shuffle1_75000.csv', 'cat_eating_47DLC_resnet50_DLC_ProjectSep22shuffle1_75000.csv', 'cat_jumping_71DLC_resnet50_DLC_ProjectSep22shuffle1_75000.csv', 'cat_running_59DLC_resnet50_DLC_ProjectSep22shuffle1_75000.csv', 'cat_running_48DLC_resnet50_DLC_ProjectSep22shuffle1_75000.csv', 'cat_walking_61DLC_resnet50_DLC_ProjectSep22shuffle1_75000.csv', 'cat_eating_43DLC_resnet50_DLC_ProjectSep22shuffle1_75000.csv', 'cat_walking_71DLC_resnet50_DLC_ProjectSep22shuffle1_75000.csv', 'cat_walking_70DLC_resnet50_DLC_ProjectSep22shuffle1_75000.csv', 'cat_jumping_13DLC_resnet50_DLC_ProjectSep22shuffle1_75000.csv', 'cat_running_72DLC_resnet50_DLC_ProjectSep22shuffle1_75000.csv', 'cat_jumping_21DLC_resnet50_DLC_ProjectSep22shuffle1_75000.csv', 'cat_jumping_8DLC_resnet50_DLC_ProjectSep22shuffle1_75000.csv', 'cat_walking_72DLC_resnet50_DLC_ProjectSep22shuffle1_75000.csv', 'cat_walking_32DLC_resnet50_DLC_ProjectSep22shuffle1_75000.csv', 'cat_running_58DLC_resnet50_DLC_ProjectSep22shuffle1_75000.csv', 'cat_jumping_11DLC_resnet50_DLC_ProjectSep22shuffle1_75000.csv', 'cat_walking_13DLC_resnet50_DLC_ProjectSep22shuffle1_75000.csv', 'cat_running_68DLC_resnet50_DLC_ProjectSep22shuffle1_75000.csv', 'cat_walking_6DLC_resnet50_DLC_ProjectSep22shuffle1_75000.csv', 'cat_running_41DLC_resnet50_DLC_ProjectSep22shuffle1_75000.csv', 'cat_running_16DLC_resnet50_DLC_ProjectSep22shuffle1_75000.csv', 'cat_jumping_35DLC_resnet50_DLC_ProjectSep22shuffle1_75000.csv', 'cat_eating_73DLC_resnet50_DLC_ProjectSep22shuffle1_75000.csv', 'cat_running_15DLC_resnet50_DLC_ProjectSep22shuffle1_75000.csv', 'cat_walking_64DLC_resnet50_DLC_ProjectSep22shuffle1_75000.csv', 'cat_walking_93DLC_resnet50_DLC_ProjectSep22shuffle1_75000.csv', 'cat_running_76DLC_resnet50_DLC_ProjectSep22shuffle1_75000.csv', 'cat_running_44DLC_resnet50_DLC_ProjectSep22shuffle1_75000.csv', 'cat_walking_63DLC_resnet50_DLC_ProjectSep22shuffle1_75000.csv', 'cat_running_23DLC_resnet50_DLC_ProjectSep22shuffle1_75000.csv', 'cat_eating_42DLC_resnet50_DLC_ProjectSep22shuffle1_75000.csv', 'cat_jumping_87DLC_resnet50_DLC_ProjectSep22shuffle1_75000.csv', 'cat_walking_86DLC_resnet50_DLC_ProjectSep22shuffle1_75000.csv', 'cat_eating_13DLC_resnet50_DLC_ProjectSep22shuffle1_75000.csv', 'cat_walking_52DLC_resnet50_DLC_ProjectSep22shuffle1_75000.csv', 'cat_walking_29DLC_resnet50_DLC_ProjectSep22shuffle1_75000.csv', 'cat_walking_21DLC_resnet50_DLC_ProjectSep22shuffle1_75000.csv', 'cat_running_28DLC_resnet50_DLC_ProjectSep22shuffle1_75000.csv', 'cat_jumping_68DLC_resnet50_DLC_ProjectSep22shuffle1_75000.csv', 'cat_jumping_36DLC_resnet50_DLC_ProjectSep22shuffle1_75000.csv', 'cat_eating_88DLC_resnet50_DLC_ProjectSep22shuffle1_75000.csv', 'cat_walking_36DLC_resnet50_DLC_ProjectSep22shuffle1_75000.csv', 'cat_eating_8DLC_resnet50_DLC_ProjectSep22shuffle1_75000.csv', 'cat_eating_34DLC_resnet50_DLC_ProjectSep22shuffle1_75000.csv', 'cat_eating_75DLC_resnet50_DLC_ProjectSep22shuffle1_75000.csv', 'cat_running_65DLC_resnet50_DLC_ProjectSep22shuffle1_75000.csv', 'cat_walking_46DLC_resnet50_DLC_ProjectSep22shuffle1_75000.csv', 'cat_eating_14DLC_resnet50_DLC_ProjectSep22shuffle1_75000.csv', 'cat_jumping_55DLC_resnet50_DLC_ProjectSep22shuffle1_75000.csv', 'cat_walking_44DLC_resnet50_DLC_ProjectSep22shuffle1_75000.csv', 'cat_eating_44DLC_resnet50_DLC_ProjectSep22shuffle1_75000.csv', 'cat_walking_27DLC_resnet50_DLC_ProjectSep22shuffle1_75000.csv', 'cat_eating_76DLC_resnet50_DLC_ProjectSep22shuffle1_75000.csv', 'cat_eating_53DLC_resnet50_DLC_ProjectSep22shuffle1_75000.csv', 'cat_jumping_56DLC_resnet50_DLC_ProjectSep22shuffle1_75000.csv', 'cat_eating_26DLC_resnet50_DLC_ProjectSep22shuffle1_75000.csv', 'cat_jumping_47DLC_resnet50_DLC_ProjectSep22shuffle1_75000.csv', 'cat_walking_43DLC_resnet50_DLC_ProjectSep22shuffle1_75000.csv', 'cat_jumping_26DLC_resnet50_DLC_ProjectSep22shuffle1_75000.csv', 'cat_walking_75DLC_resnet50_DLC_ProjectSep22shuffle1_75000.csv', 'cat_walking_59DLC_resnet50_DLC_ProjectSep22shuffle1_75000.csv', 'cat_jumping_70DLC_resnet50_DLC_ProjectSep22shuffle1_75000.csv', 'cat_running_20DLC_resnet50_DLC_ProjectSep22shuffle1_75000.csv', 'cat_walking_65DLC_resnet50_DLC_ProjectSep22shuffle1_75000.csv', 'cat_jumping_76DLC_resnet50_DLC_ProjectSep22shuffle1_75000.csv', 'cat_eating_86DLC_resnet50_DLC_ProjectSep22shuffle1_75000.csv', 'cat_eating_11DLC_resnet50_DLC_ProjectSep22shuffle1_75000.csv', 'cat_walking_57DLC_resnet50_DLC_ProjectSep22shuffle1_75000.csv', 'cat_eating_5DLC_resnet50_DLC_ProjectSep22shuffle1_75000.csv', 'cat_jumping_79DLC_resnet50_DLC_ProjectSep22shuffle1_75000.csv', 'cat_walking_2DLC_resnet50_DLC_ProjectSep22shuffle1_75000.csv', 'cat_eating_59DLC_resnet50_DLC_ProjectSep22shuffle1_75000.csv', 'cat_walking_22DLC_resnet50_DLC_ProjectSep22shuffle1_75000.csv', 'cat_walking_28DLC_resnet50_DLC_ProjectSep22shuffle1_75000.csv', 'cat_jumping_57DLC_resnet50_DLC_ProjectSep22shuffle1_75000.csv', 'cat_running_73DLC_resnet50_DLC_ProjectSep22shuffle1_75000.csv', 'cat_jumping_48DLC_resnet50_DLC_ProjectSep22shuffle1_75000.csv', 'cat_running_54DLC_resnet50_DLC_ProjectSep22shuffle1_75000.csv', 'cat_eating_85DLC_resnet50_DLC_ProjectSep22shuffle1_75000.csv', 'cat_walking_80DLC_resnet50_DLC_ProjectSep22shuffle1_75000.csv', 'cat_jumping_85DLC_resnet50_DLC_ProjectSep22shuffle1_75000.csv', 'cat_running_79DLC_resnet50_DLC_ProjectSep22shuffle1_75000.csv', 'cat_walking_91DLC_resnet50_DLC_ProjectSep22shuffle1_75000.csv', 'cat_walking_40DLC_resnet50_DLC_ProjectSep22shuffle1_75000.csv', 'cat_jumping_49DLC_resnet50_DLC_ProjectSep22shuffle1_75000.csv', 'cat_eating_51DLC_resnet50_DLC_ProjectSep22shuffle1_75000.csv', 'cat_jumping_72DLC_resnet50_DLC_ProjectSep22shuffle1_75000.csv', 'cat_walking_30DLC_resnet50_DLC_ProjectSep22shuffle1_75000.csv', 'cat_walking_62DLC_resnet50_DLC_ProjectSep22shuffle1_75000.csv', 'cat_jumping_82DLC_resnet50_DLC_ProjectSep22shuffle1_75000.csv', 'cat_eating_82DLC_resnet50_DLC_ProjectSep22shuffle1_75000.csv', 'cat_running_66DLC_resnet50_DLC_ProjectSep22shuffle1_75000.csv', 'cat_jumping_51DLC_resnet50_DLC_ProjectSep22shuffle1_75000.csv']\n",
            "353\n"
          ]
        }
      ],
      "source": [
        "CLASSIFY_NUMBER = 4\n",
        "FRAME_NUMBER = 72\n",
        "ADD_FRAME_NUMBER = 47\n",
        "ORIGINAL_FRAME_NUMBER = 48\n",
        "COL_NUMBER = 40\n",
        "filepath=\"/content/datas/\"\n",
        "!rmdir /content/datas/.ipynb_checkpoints\n",
        "files = os.listdir(filepath)\n",
        "print(files)\n",
        "file_numbers = len(files)\n",
        "print(file_numbers)"
      ]
    },
    {
      "cell_type": "code",
      "execution_count": null,
      "metadata": {
        "id": "kiNfJLrWFgar"
      },
      "outputs": [],
      "source": [
        "import numpy as np\n",
        "import tensorflow as tf\n",
        "from tensorflow import keras\n",
        "from keras import layers\n",
        "import pandas as pd\n",
        "import re"
      ]
    },
    {
      "cell_type": "markdown",
      "metadata": {
        "id": "bIsi4KfMZavg"
      },
      "source": [
        "批量处理csv"
      ]
    },
    {
      "cell_type": "code",
      "execution_count": null,
      "metadata": {
        "id": "v2lZWqwZTFYZ"
      },
      "outputs": [],
      "source": [
        "y_sum = np.empty(shape=(0,CLASSIFY_NUMBER))\n",
        "first_loop = True\n",
        "count = 0\n",
        "for file_name in files:\n",
        "  if((file_name != '.config') and (file_name != 'sample_data')):\n",
        "    PATH = filepath + file_name\n",
        "    print(PATH)\n",
        "    pd_tmp = pd.read_csv(PATH,header=1,usecols=lambda x:x!=\"bodyparts\")\n",
        "    pd_tmp = pd_tmp.drop(index = 0)\n",
        "    np_tmp = pd_tmp.to_numpy()\n",
        "    if(len(np_tmp)!=FRAME_NUMBER):\n",
        "      count = count+1\n",
        "      file_numbers = file_numbers-1\n",
        "      continue\n",
        "    np_tmp = np_tmp[:FRAME_NUMBER,:60]\n",
        "    if(first_loop):\n",
        "      np_sum = np_tmp;\n",
        "      first_loop = False\n",
        "    else:\n",
        "      np_sum = np.append(np_sum, np_tmp, axis=0)\n",
        "    #构建Y_train\n",
        "    #if(re.match(\"sleep*\",file_name) is not None): #自己找\n",
        "      #y_sum = y_sum.append(\"sleep\")\n",
        "      #y_sum = np.append(y_sum,\"sleep\")\n",
        "      #y_sum = np.append(y_sum,[1,0,0,0])\n",
        "    if(re.match(\"cat_running\",file_name)is not None):\n",
        "      y_sum = np.append(y_sum,\"run\")\n",
        "      print(\"run\")\n",
        "    elif(re.match(\"cat_poo\",file_name)is not None): #自己找\n",
        "      y_sum = np.append(y_sum,\"poo\")\n",
        "      print(\"poo\")\n",
        "    elif(re.match(\"cat_jumping\",file_name)is not None): #jumping eating walking\n",
        "      y_sum = np.append(y_sum,\"jump\")\n",
        "      print(\"jump\")\n",
        "    elif(re.match(\"cat_eating\",file_name)is not None):\n",
        "      y_sum = np.append(y_sum,\"eat\")\n",
        "      print(\"eat\")\n",
        "    elif(re.match(\"cat_walking\",file_name)is not None):\n",
        "      y_sum = np.append(y_sum,\"walk\")\n",
        "      print(\"walk\")\n",
        "    #else:\n",
        "     # y_sum = np.append(y_sum,\"else\")\n",
        "# print(count)"
      ]
    },
    {
      "cell_type": "code",
      "execution_count": null,
      "metadata": {
        "colab": {
          "base_uri": "https://localhost:8080/"
        },
        "id": "vJVYJlDH9OCD",
        "outputId": "731fcf10-e6cf-4a3a-f1b9-3de5d422deaf"
      },
      "outputs": [
        {
          "output_type": "stream",
          "name": "stdout",
          "text": [
            "50\n"
          ]
        }
      ],
      "source": [
        "print(count)"
      ]
    },
    {
      "cell_type": "code",
      "execution_count": null,
      "metadata": {
        "id": "ndQdd6EiBBi6"
      },
      "outputs": [],
      "source": [
        "print(np_sum.shape)\n",
        "print(np_sum)\n",
        "\n",
        "print(y_sum)"
      ]
    },
    {
      "cell_type": "markdown",
      "metadata": {
        "id": "K15ntiSL3KuQ"
      },
      "source": [
        "使用MinMaxScaler归一化数据"
      ]
    },
    {
      "cell_type": "code",
      "execution_count": null,
      "metadata": {
        "colab": {
          "base_uri": "https://localhost:8080/"
        },
        "id": "p9K0jhSK3khC",
        "outputId": "181dc518-9779-4a15-93c1-3a25c58175b7"
      },
      "outputs": [
        {
          "output_type": "stream",
          "name": "stdout",
          "text": [
            "(14544, 60)\n"
          ]
        }
      ],
      "source": [
        "from sklearn.preprocessing import MinMaxScaler\n",
        "#mydata[['x1','x2','x3']] = MinMaxScaler().fit_transform(mydata[['x1','x2','x3']])\n",
        "scaler = MinMaxScaler()\n",
        "flag = True;\n",
        "#choose_np = np.array([])\n",
        "#for i in range(60):\n",
        "#  if(i%3 != 2):\n",
        "#    choose_np = np.append(choose_np,[i])\n",
        "#print(choose_np)\n",
        "#np_sum[:,choose_np] = scaler.fit_transform(np_sum[:,choose_np)\n",
        "for j in range(len(np_sum)):\n",
        "  x_cor_tmp = np_sum[j][::3]\n",
        "  #print(x_cor_tmp)\n",
        "  y_cor_tmp = np_sum[j][1::3]\n",
        "  #print(x_cor_tmp.reshape(-1,1))\n",
        "  x_cor_tmp = scaler.fit_transform(x_cor_tmp.reshape(-1,1))\n",
        "  y_cor_tmp = scaler.fit_transform(y_cor_tmp.reshape(-1,1))\n",
        "  if(flag): #create a new np array\n",
        "    flag = False;\n",
        "    np_after_scaled =np.concatenate([x_cor_tmp.flatten(),y_cor_tmp.flatten(),np_sum[j][2::3]],axis = 0) \n",
        "\n",
        "  else: #\n",
        "    np_after_scaled = np.vstack([np_after_scaled,np.concatenate([x_cor_tmp.flatten(),y_cor_tmp.flatten(),np_sum[j][2::3]],axis = 0)])\n",
        "    \n",
        "\n",
        "print(np_after_scaled.shape)"
      ]
    },
    {
      "cell_type": "markdown",
      "metadata": {
        "id": "mlsW_FwHf7XI"
      },
      "source": [
        "数据预处理（2D转3D）\n",
        "X_train"
      ]
    },
    {
      "cell_type": "code",
      "execution_count": null,
      "metadata": {
        "id": "JgthZmv5f7IZ"
      },
      "outputs": [],
      "source": [
        "np_3d = np_after_scaled.reshape(file_numbers,48,60)  # N samples, 48 time steps, 60 features per time step\n",
        "print(np_3d.shape)\n",
        "print(np_3d.size)\n",
        "print(np_3d)"
      ]
    },
    {
      "cell_type": "markdown",
      "metadata": {
        "id": "sD9mR3WBo-NO"
      },
      "source": [
        "数据插帧（每两帧间）"
      ]
    },
    {
      "cell_type": "code",
      "execution_count": null,
      "metadata": {
        "id": "4Ci8apORo8tL",
        "colab": {
          "base_uri": "https://localhost:8080/"
        },
        "outputId": "8be25bd3-20f1-4cd8-f6f2-e457eab75f42"
      },
      "outputs": [
        {
          "output_type": "stream",
          "name": "stdout",
          "text": [
            "[ 0.  1.  2.  3.  4.  5.  6.  7.  8.  9. 10. 11. 12. 13. 14. 15. 16. 17.\n",
            " 18. 19. 20. 21. 22. 23. 24. 25. 26. 27. 28. 29. 30. 31. 32. 33. 34. 35.\n",
            " 36. 37. 38. 39. 40. 41. 42. 43. 44. 45. 46. 47.]\n",
            "[[0.39149112 0.47379769 0.23851951 ... 0.69093333 0.50419712 0.36117588]\n",
            " [0.39661532 0.47708476 0.24284104 ... 0.68009727 0.48440284 0.34299254]\n",
            " [0.40325358 0.48045033 0.24664823 ... 0.67193782 0.47118749 0.32908641]\n",
            " ...\n",
            " [0.34018843 0.42693087 0.20293732 ... 0.58478211 0.37089683 0.308833  ]\n",
            " [0.34020932 0.4260889  0.20262135 ... 0.58564365 0.37126979 0.3093295 ]\n",
            " [0.34022919 0.42538966 0.20234087 ... 0.58656226 0.37165878 0.30970951]]\n",
            "(303, 95, 40)\n",
            "[[[0.39149112 0.47379769 0.23851951 ... 0.69093333 0.50419712 0.36117588]\n",
            "  [0.39661532 0.47708476 0.24284104 ... 0.68009727 0.48440284 0.34299254]\n",
            "  [0.40325358 0.48045033 0.24664823 ... 0.67193782 0.47118749 0.32908641]\n",
            "  ...\n",
            "  [0.34018843 0.42693087 0.20293732 ... 0.58478211 0.37089683 0.308833  ]\n",
            "  [0.34020932 0.4260889  0.20262135 ... 0.58564365 0.37126979 0.3093295 ]\n",
            "  [0.34022919 0.42538966 0.20234087 ... 0.58656226 0.37165878 0.30970951]]\n",
            "\n",
            " [[0.32431914 0.30269237 0.1606262  ... 0.80412302 0.         0.87024458]\n",
            "  [0.31589866 0.23387827 0.21646125 ... 0.85130994 0.         0.93108352]\n",
            "  [0.30840314 0.13768597 0.27309254 ... 0.92010551 0.         0.97552742]\n",
            "  ...\n",
            "  [0.25281544 0.65288867 0.5819343  ... 0.47358251 0.05076059 0.04219182]\n",
            "  [0.26639839 0.68655971 0.69048276 ... 0.48992857 0.3830773  0.35046147]\n",
            "  [0.28550968 0.70999651 0.811289   ... 0.51217292 0.61650082 0.6237694 ]]\n",
            "\n",
            " [[0.31153755 0.50744674 0.52894918 ... 0.0850514  0.33941578 0.97725218]\n",
            "  [0.31851295 0.57644371 0.52787538 ... 0.08158783 0.35776573 0.98656246]\n",
            "  [0.32755482 0.62901651 0.52678571 ... 0.07671367 0.37495263 1.        ]\n",
            "  ...\n",
            "  [0.96892272 0.95821031 0.84864894 ... 0.55411046 0.48104174 0.35998706]\n",
            "  [0.84327782 0.81277581 0.80996996 ... 0.6837976  0.52389468 0.37873506]\n",
            "  [0.71501772 0.63098754 0.75485696 ... 0.77360701 0.55309467 0.39937805]]\n",
            "\n",
            " ...\n",
            "\n",
            " [[0.21576255 0.07064729 0.06614943 ... 0.92794672 0.67381684 0.        ]\n",
            "  [0.22267502 0.1213666  0.06852262 ... 0.94421925 0.67863291 0.        ]\n",
            "  [0.2274467  0.16287772 0.07076645 ... 0.95833389 0.68455458 0.        ]\n",
            "  ...\n",
            "  [0.23316284 0.06697688 0.05900338 ... 0.93027334 0.64342429 0.7028276 ]\n",
            "  [0.22769915 0.06686978 0.05876457 ... 0.9379375  0.63455109 0.700106  ]\n",
            "  [0.22351724 0.06672674 0.05857669 ... 0.94436407 0.62668734 0.69827678]]\n",
            "\n",
            " [[0.94925539 0.95508244 0.13235434 ... 0.04174321 0.         0.03617144]\n",
            "  [0.95616784 0.96859951 0.1342098  ... 0.05090416 0.         0.06903396]\n",
            "  [0.96228479 0.97986869 0.13601423 ... 0.05898071 0.         0.09679723]\n",
            "  ...\n",
            "  [0.05079972 0.0230116  0.         ... 0.62385226 0.1900259  0.58207724]\n",
            "  [0.0303714  0.01810623 0.38488347 ... 0.79843446 0.5266239  0.48166525]\n",
            "  [0.         0.01334917 0.91956411 ... 1.         0.89618793 0.38906028]]\n",
            "\n",
            " [[0.9839934  1.         0.90785085 ... 0.87027695 0.74618371 0.63683458]\n",
            "  [0.94925421 0.9451479  0.87452115 ... 0.84797249 0.75605666 0.65624799]\n",
            "  [0.92310837 0.90014775 0.84592445 ... 0.83296619 0.76354694 0.67661117]\n",
            "  ...\n",
            "  [1.         0.55535505 0.83217969 ... 0.51495546 0.52855783 0.4103162 ]\n",
            "  [0.89564569 0.54891917 0.73503827 ... 0.53390066 0.53879959 0.49887116]\n",
            "  [0.77204672 0.53948787 0.660351   ... 0.5479434  0.55382112 0.56625647]]]\n"
          ]
        }
      ],
      "source": [
        "\n",
        "# import matplotlib.pyplot as plt \n",
        "# import random\n",
        "# x_axis = np.arange(48)\n",
        "# x_axis = x_axis.astype(np.float64)\n",
        "\n",
        "\n",
        "# print(x_axis)\n",
        "# first_3d_frame = True\n",
        "# first_print = True\n",
        "\n",
        "# for i in range (np_3d.size//( 60 * ORIGINAL_FRAME_NUMBER )):\n",
        "#   np_before_interpolant = np_3d[i]\n",
        "\n",
        "#   count = 1\n",
        "#   first_loop = True\n",
        "#   for j in range(40):\n",
        "#     x_to_interpolant = np.arange(0.5,ADD_FRAME_NUMBER+0.5,1)\n",
        "    \n",
        "#     for k in range (ADD_FRAME_NUMBER):\n",
        "#       x_to_interpolant[k] = x_to_interpolant[k] + random.random()*0.2-0.1\n",
        "\n",
        "#     np_flatten = np_before_interpolant[:,j].tolist()\n",
        "\n",
        "#     np_after_interpolant = np.interp(x_to_interpolant, x_axis,np_flatten)\n",
        "\n",
        "#     ls_1d_95frames = list()\n",
        "#     ls_1d_95frames.clear()\n",
        "\n",
        "\n",
        "\n",
        "    \n",
        "#     for l in range (48): #将原帧和插值帧拼接\n",
        "#       if(l<47):\n",
        "#         ls_1d_95frames.append(np_flatten[l])\n",
        "#         ls_1d_95frames.append(np_after_interpolant[l])\n",
        "#       else:\n",
        "#         ls_1d_95frames.append(np_flatten[l])\n",
        "\n",
        "#     np_1d_95frames = np.array(ls_1d_95frames)\n",
        "#     np_1d_95frames = np_1d_95frames.reshape(95,1)\n",
        "#     if(first_print):\n",
        "#       first_print = False\n",
        "\n",
        "#     if(first_loop):\n",
        "#       first_loop = False\n",
        "#       np_interpolant_sum_2d = np_1d_95frames\n",
        "\n",
        "      \n",
        "#     else:\n",
        "#       np_interpolant_sum_2d = np.hstack((np_interpolant_sum_2d,np_1d_95frames))\n",
        "#       count = count+1\n",
        "\n",
        "\n",
        "#   if(first_3d_frame):\n",
        "#     first_3d_frame = False\n",
        "#     np_interpolant_sum_3d = np_interpolant_sum_2d\n",
        "#     print(np_interpolant_sum_3d)\n",
        "#   else:\n",
        "#     np_interpolant_sum_3d = np.vstack([np_interpolant_sum_3d,np_interpolant_sum_2d])\n",
        "\n",
        "# np_interpolant_sum_3d = np_interpolant_sum_3d.reshape(file_numbers,FRAME_NUMBER,COL_NUMBER)\n",
        "# print(np_interpolant_sum_3d.shape)\n",
        "# print(np_interpolant_sum_3d)"
      ]
    },
    {
      "cell_type": "markdown",
      "metadata": {
        "id": "n4YZzY5oq4na"
      },
      "source": [
        "将Y使用one hot 编码"
      ]
    },
    {
      "cell_type": "code",
      "execution_count": null,
      "metadata": {
        "id": "6ydOXj7W2JQL",
        "colab": {
          "base_uri": "https://localhost:8080/"
        },
        "outputId": "b5633fab-024e-4cb5-bd82-75451e06fa17"
      },
      "outputs": [
        {
          "output_type": "stream",
          "name": "stdout",
          "text": [
            "['eat' 'walk' 'jump' 'walk' 'jump' 'eat' 'jump' 'jump' 'walk' 'jump' 'run'\n",
            " 'eat' 'jump' 'eat' 'jump' 'walk' 'jump' 'run' 'jump' 'run' 'walk' 'eat'\n",
            " 'jump' 'walk' 'eat' 'walk' 'walk' 'eat' 'eat' 'jump' 'walk' 'eat' 'run'\n",
            " 'jump' 'eat' 'jump' 'run' 'jump' 'walk' 'eat' 'walk' 'eat' 'run' 'eat'\n",
            " 'run' 'run' 'walk' 'walk' 'eat' 'eat' 'run' 'eat' 'run' 'run' 'eat'\n",
            " 'walk' 'eat' 'eat' 'jump' 'eat' 'jump' 'run' 'jump' 'jump' 'walk' 'eat'\n",
            " 'eat' 'run' 'walk' 'eat' 'jump' 'walk' 'run' 'run' 'walk' 'run' 'walk'\n",
            " 'eat' 'walk' 'run' 'run' 'walk' 'walk' 'eat' 'run' 'run' 'walk' 'eat'\n",
            " 'eat' 'eat' 'walk' 'eat' 'eat' 'jump' 'walk' 'eat' 'run' 'run' 'walk'\n",
            " 'jump' 'run' 'run' 'run' 'walk' 'walk' 'jump' 'run' 'eat' 'walk' 'eat'\n",
            " 'walk' 'jump' 'eat' 'walk' 'eat' 'eat' 'walk' 'jump' 'jump' 'eat' 'run'\n",
            " 'jump' 'run' 'walk' 'walk' 'jump' 'run' 'eat' 'run' 'walk' 'walk' 'eat'\n",
            " 'run' 'walk' 'run' 'jump' 'run' 'walk' 'walk' 'eat' 'walk' 'eat' 'eat'\n",
            " 'eat' 'walk' 'eat' 'eat' 'jump' 'eat' 'jump' 'jump' 'eat' 'eat' 'walk'\n",
            " 'jump' 'walk' 'jump' 'jump' 'jump' 'eat' 'jump' 'jump' 'run' 'run' 'eat'\n",
            " 'eat' 'walk' 'walk' 'eat' 'walk' 'jump' 'walk' 'eat' 'jump' 'jump' 'run'\n",
            " 'walk' 'run' 'walk' 'eat' 'walk' 'run' 'jump' 'jump' 'run' 'run' 'eat'\n",
            " 'jump' 'walk' 'jump' 'eat' 'eat' 'walk' 'eat' 'jump' 'walk' 'run' 'jump'\n",
            " 'walk' 'eat' 'walk' 'eat' 'jump' 'run' 'run' 'eat' 'run' 'run' 'jump'\n",
            " 'eat' 'jump' 'run' 'walk' 'run' 'run' 'eat' 'jump' 'jump' 'run' 'walk'\n",
            " 'eat' 'eat' 'eat' 'eat' 'run' 'run' 'walk' 'eat' 'walk' 'walk' 'jump'\n",
            " 'run' 'jump' 'walk' 'run' 'walk' 'run' 'walk' 'run' 'run' 'jump' 'eat'\n",
            " 'walk' 'walk' 'run' 'walk' 'run' 'eat' 'jump' 'eat' 'walk' 'walk' 'walk'\n",
            " 'run' 'jump' 'jump' 'eat' 'walk' 'eat' 'eat' 'eat' 'run' 'walk' 'jump'\n",
            " 'walk' 'eat' 'walk' 'eat' 'eat' 'jump' 'jump' 'walk' 'jump' 'walk' 'walk'\n",
            " 'jump' 'walk' 'jump' 'eat' 'eat' 'walk' 'eat' 'jump' 'walk' 'eat' 'walk'\n",
            " 'walk' 'run' 'run' 'eat' 'walk' 'jump' 'walk' 'walk' 'jump' 'eat' 'jump'\n",
            " 'walk' 'walk' 'jump' 'eat' 'run' 'jump']\n"
          ]
        }
      ],
      "source": [
        "print(y_sum)"
      ]
    },
    {
      "cell_type": "code",
      "execution_count": null,
      "metadata": {
        "id": "UvPWP3S_q5rK",
        "colab": {
          "base_uri": "https://localhost:8080/"
        },
        "outputId": "909a6a25-004b-47f9-db4a-d2d1f9161482"
      },
      "outputs": [
        {
          "output_type": "stream",
          "name": "stdout",
          "text": [
            "[1 2 0 3]\n",
            "[[1 0 0 0]\n",
            " [0 0 0 1]\n",
            " [0 1 0 0]\n",
            " ...\n",
            " [1 0 0 0]\n",
            " [0 0 1 0]\n",
            " [0 1 0 0]]\n"
          ]
        }
      ],
      "source": [
        "from sklearn.preprocessing import OneHotEncoder\n",
        "enc  = OneHotEncoder()\n",
        "# print(y_sum)\n",
        "# y_sum = enc.fit_transform(y_sum.reshape(-1,1))\n",
        "# print(y_sum)\n",
        "\n",
        "\n",
        "a = [\"jump\", \"run\", \"eat\", \"walk\"]\n",
        "num_label = pd.Categorical(a).codes\n",
        "print(num_label)\n",
        "y_onehot = np.asarray(pd.get_dummies(y_sum), dtype=np.int8)\n",
        "print(y_onehot)\n",
        "y_onthot = np.asarray(y_onehot).astype(np.float32)\n",
        "np_3d = np.asarray(np_3d).astype(np.float32)"
      ]
    },
    {
      "cell_type": "markdown",
      "metadata": {
        "id": "KKBxwfxV1FR6"
      },
      "source": [
        "分割训练集和测试集"
      ]
    },
    {
      "cell_type": "code",
      "execution_count": null,
      "metadata": {
        "id": "0Y-zb8NL1Fu-",
        "colab": {
          "base_uri": "https://localhost:8080/"
        },
        "outputId": "2bbdaa91-e3ff-4c66-991f-382a4b2c2dd0"
      },
      "outputs": [
        {
          "output_type": "stream",
          "name": "stdout",
          "text": [
            "(287, 95, 40) (287, 4)\n",
            "(16, 95, 40) (16, 4)\n"
          ]
        }
      ],
      "source": [
        "from sklearn.model_selection import train_test_split\n",
        "# X_train, X_test, Y_train, Y_test = train_test_split(np_interpolant_sum_3d,y_onehot, test_size = 0.05, random_state = 42)\n",
        "X_train, X_test, Y_train, Y_test = train_test_split(np_3d,y_onehot, test_size = 0.05, random_state = 42)\n",
        "print(X_train.shape,Y_train.shape)\n",
        "print(X_test.shape,Y_test.shape)"
      ]
    },
    {
      "cell_type": "markdown",
      "metadata": {
        "id": "nwDTYkP2JeuO"
      },
      "source": [
        "实例化模型"
      ]
    },
    {
      "cell_type": "code",
      "execution_count": null,
      "metadata": {
        "id": "jVdk63FRPZIZ"
      },
      "outputs": [],
      "source": [
        "# #inputs = keras.Input(shape=())\n",
        "# model = keras.Sequential()\n",
        "# model.add(layers.Dense(60))\n",
        "# model.add(layers.Dropout(0.1))\n",
        "# model.add(layers.LSTM(128,input_shape=(48,60))) #1 or more samples, 48 time steps, 60 features when likelihood counts\n",
        "# #model.add(layers.dense(4))\n",
        "# model.add(layers.Dense(CLASSIFY_NUMBER,activation='softmax'))\n",
        "\n",
        "\n",
        "#inputs = keras.Input(shape=())\n",
        "model = keras.Sequential()\n",
        "# model.add(layers.Dropout(0.2))\n",
        "# model.add(layers.Conv1D(60,3,activation='relu',input_shape=(48,60)))\n",
        "# \n",
        "# model.add()\n",
        "model.add(layers.LSTM(64,input_shape=(FRAME_NUMBER,COL_NUMBER),activation = 'tanh',bias_regularizer=keras.regularizers.l2(l=0.001))) #1 or more samples, 47 time steps, 60 features when likelihood counts\n",
        "# model.add(layers.LSTM(32,activation='tanh')) \n",
        "model.add(layers.Dense(64,activation = 'relu'))\n",
        "model.add(layers.Dropout(0.2))\n",
        "model.add(layers.Dense(CLASSIFY_NUMBER,activation='softmax'))"
      ]
    },
    {
      "cell_type": "markdown",
      "metadata": {
        "id": "79Jx-w_ZCV9g"
      },
      "source": [
        "编译"
      ]
    },
    {
      "cell_type": "code",
      "execution_count": null,
      "metadata": {
        "id": "Ts2J8ImTCYvG",
        "colab": {
          "base_uri": "https://localhost:8080/"
        },
        "outputId": "7f3108e7-2785-4571-bbb1-e87c0a799ff7"
      },
      "outputs": [
        {
          "output_type": "stream",
          "name": "stdout",
          "text": [
            "Model: \"sequential_3\"\n",
            "_________________________________________________________________\n",
            " Layer (type)                Output Shape              Param #   \n",
            "=================================================================\n",
            " lstm_3 (LSTM)               (None, 64)                26880     \n",
            "                                                                 \n",
            " dense_6 (Dense)             (None, 64)                4160      \n",
            "                                                                 \n",
            " dropout_4 (Dropout)         (None, 64)                0         \n",
            "                                                                 \n",
            " dense_7 (Dense)             (None, 4)                 260       \n",
            "                                                                 \n",
            "=================================================================\n",
            "Total params: 31,300\n",
            "Trainable params: 31,300\n",
            "Non-trainable params: 0\n",
            "_________________________________________________________________\n"
          ]
        },
        {
          "output_type": "stream",
          "name": "stderr",
          "text": [
            "/usr/local/lib/python3.7/dist-packages/keras/optimizer_v2/adam.py:105: UserWarning: The `lr` argument is deprecated, use `learning_rate` instead.\n",
            "  super(Adam, self).__init__(name, **kwargs)\n"
          ]
        }
      ],
      "source": [
        "from keras import optimizers\n",
        "adam = tf.keras.optimizers.Adam(lr=0.001)\n",
        "# sgd = optimizers.sgd(lr=0.001)\n",
        "\n",
        "early_stopping = tf.keras.callbacks.EarlyStopping(monitor='val_loss', min_delta=0,patience=10,verbose=1)\n",
        "\n",
        "model.compile(loss='categorical_crossentropy',optimizer=adam,metrics='categorical_accuracy')\n",
        "model.build(input_shape=(None,FRAME_NUMBER,COL_NUMBER))\n",
        "# model.compile(loss='categorical_crossentropy',optimizer='adam',metrics='accuracy')\n",
        "model.summary()"
      ]
    },
    {
      "cell_type": "markdown",
      "metadata": {
        "id": "6a194LVWCYMS"
      },
      "source": [
        "训练模型"
      ]
    },
    {
      "cell_type": "code",
      "execution_count": null,
      "metadata": {
        "id": "mE_defhX0G4F"
      },
      "outputs": [],
      "source": [
        "batch_size = 32\n",
        "history = model.fit(\n",
        "    X_train,\n",
        "    Y_train, \n",
        "    epochs=200, \n",
        "    batch_size=batch_size,\n",
        "    validation_split=0.2\n",
        "    #callbacks=[EarlyStopping(monitor='val_loss', patience=3, min_delta=0.0001)]\n",
        ")\n",
        "print(\"history.history:{}\".format(history.history))"
      ]
    },
    {
      "cell_type": "code",
      "execution_count": null,
      "metadata": {
        "id": "Qb2XTP0d_Pyh",
        "colab": {
          "base_uri": "https://localhost:8080/",
          "height": 545
        },
        "outputId": "9de86f93-afdd-4f84-8d1b-26590ca65e1b"
      },
      "outputs": [
        {
          "output_type": "display_data",
          "data": {
            "text/plain": [
              "<Figure size 432x288 with 1 Axes>"
            ],
            "image/png": "[encoded data removed]"
          },
          "metadata": {
            "needs_background": "light"
          }
        },
        {
          "output_type": "display_data",
          "data": {
            "text/plain": [
              "<Figure size 432x288 with 1 Axes>"
            ],
            "image/png": "[encoded data removed]"
          },
          "metadata": {
            "needs_background": "light"
          }
        }
      ],
      "source": [
        "acc = history.history['categorical_accuracy']\n",
        "val_acc = history.history['val_categorical_accuracy']\n",
        "loss = history.history['loss']\n",
        "val_loss = history.history['val_loss']\n",
        "epochs = range(len(acc))\n",
        "\n",
        "plt.plot(epochs,acc, 'b', label='Training accuracy')\n",
        "plt.plot(epochs, val_acc, 'r', label='validation accuracy')\n",
        "plt.title('Training and validation accuracy')\n",
        "plt.legend(loc='lower right')\n",
        "plt.figure()\n",
        "\n",
        "plt.plot(epochs, loss, 'r', label='Training loss')\n",
        "plt.plot(epochs, val_loss, 'b', label='validation loss')\n",
        "plt.title('Training and validation loss')\n",
        "plt.legend()\n",
        "plt.show()"
      ]
    },
    {
      "cell_type": "markdown",
      "metadata": {
        "id": "NailGdlzRLwv"
      },
      "source": [
        "评估"
      ]
    },
    {
      "cell_type": "code",
      "execution_count": null,
      "metadata": {
        "id": "WAqzG5GFRLVE"
      },
      "outputs": [],
      "source": [
        "loss,accuracy = model.evaluate(X_test,Y_test)"
      ]
    }
  ],
  "metadata": {
    "accelerator": "GPU",
    "colab": {
      "collapsed_sections": [],
      "provenance": []
    },
    "kernelspec": {
      "display_name": "Python 3",
      "name": "python3"
    },
    "language_info": {
      "name": "python"
    }
  },
  "nbformat": 4,
  "nbformat_minor": 0
}